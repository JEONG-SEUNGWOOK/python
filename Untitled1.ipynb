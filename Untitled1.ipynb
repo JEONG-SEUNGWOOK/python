{
 "cells": [
  {
   "cell_type": "code",
   "execution_count": 5,
   "metadata": {
    "collapsed": false
   },
   "outputs": [
    {
     "name": "stdout",
     "output_type": "stream",
     "text": [
      "Input number :10\n",
      " 2\n",
      "3\n",
      "5\n",
      "7\n"
     ]
    }
   ],
   "source": [
    "a = input(\"Input number :\")\n",
    "cnt = 2\n",
    "## 수정후 ##\n",
    "def primes(num):\n",
    "    for x in range(2, int(num**0.5) + 1):\n",
    "        if num % x == 0:\n",
    "            return False\n",
    "    return True\n",
    "\n",
    "while True:\n",
    "    if primes(cnt)== True :\n",
    "        print cnt\n",
    "        \n",
    "    if cnt == a:\n",
    "        break\n",
    "    cnt = cnt + 1\n",
    "## 수정전 ##\n",
    "#for x in range(1,a):\n",
    "#    if (not(x % 2 is 0) and not(x % 3 is 0) and not(x % 5 is 0) and not(x % 7 is 0))and not(x is 1) or (x is 2) or (x is 3) or (x is 5) or (x is 7):\n",
    "#        print x"
   ]
  }
 ],
 "metadata": {
  "kernelspec": {
   "display_name": "Python 2",
   "language": "python",
   "name": "python2"
  },
  "language_info": {
   "codemirror_mode": {
    "name": "ipython",
    "version": 2
   },
   "file_extension": ".py",
   "mimetype": "text/x-python",
   "name": "python",
   "nbconvert_exporter": "python",
   "pygments_lexer": "ipython2",
   "version": "2.7.9"
  }
 },
 "nbformat": 4,
 "nbformat_minor": 0
}
