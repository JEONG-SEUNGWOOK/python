{
 "cells": [
  {
   "cell_type": "markdown",
   "metadata": {},
   "source": [
    "#Assignment2\n",
    "\n",
    "##문제 (프로젝트 오일러 3문제 포함하여 총 8개)"
   ]
  },
  {
   "cell_type": "markdown",
   "metadata": {},
   "source": [
    "###문제① 다음 6 개의 Expression에 대해 Evaluation 결과 값을 출력하고, 해당 결과가 나온 이유에 대해 설명하시오\n",
    " \n",
    "####▶ 1 and 2 and 3 and 4\n",
    "####▶ 1 or 2 or 3 or 4\n",
    "####▶ 1 and 2 or 3 and 4\n",
    "####▶ (1 and 2) or (3 and 4)\n",
    "####▶ 1 or 2 and 3 or 4\n",
    "####▶ (1 or 2) and (3 or 4)"
   ]
  },
  {
   "cell_type": "code",
   "execution_count": 161,
   "metadata": {
    "collapsed": false
   },
   "outputs": [
    {
     "data": {
      "text/plain": [
       "4"
      ]
     },
     "execution_count": 161,
     "metadata": {},
     "output_type": "execute_result"
    }
   ],
   "source": [
    "eval('1 and 2 and 3 and 4')"
   ]
  },
  {
   "cell_type": "markdown",
   "metadata": {},
   "source": [
    "설명 : and는 왼쪽이 참이여도 오른쪽도 검사하므로 1, 2를 비교하고 3을 검사, 최종적으로 4를 검사해서 4를 출력하게됨"
   ]
  },
  {
   "cell_type": "code",
   "execution_count": 151,
   "metadata": {
    "collapsed": false
   },
   "outputs": [
    {
     "data": {
      "text/plain": [
       "1"
      ]
     },
     "execution_count": 151,
     "metadata": {},
     "output_type": "execute_result"
    }
   ],
   "source": [
    "eval('1 or 2 or 3 or 4')"
   ]
  },
  {
   "cell_type": "markdown",
   "metadata": {},
   "source": [
    "설명 : or은 왼쪽이 참이면 오른쪽은 검사를 안하기 때문에 1을 검사하고 뒤에는 무시"
   ]
  },
  {
   "cell_type": "code",
   "execution_count": 219,
   "metadata": {
    "collapsed": false
   },
   "outputs": [
    {
     "data": {
      "text/plain": [
       "2"
      ]
     },
     "execution_count": 219,
     "metadata": {},
     "output_type": "execute_result"
    }
   ],
   "source": [
    "eval('1 and 2 or 3 and 4')"
   ]
  },
  {
   "cell_type": "markdown",
   "metadata": {},
   "source": [
    "설명 : 1 and 2 를 하면 2가 출력 그리고 or이 나왔으므로 검사안함"
   ]
  },
  {
   "cell_type": "code",
   "execution_count": 218,
   "metadata": {
    "collapsed": false
   },
   "outputs": [
    {
     "data": {
      "text/plain": [
       "2"
      ]
     },
     "execution_count": 218,
     "metadata": {},
     "output_type": "execute_result"
    }
   ],
   "source": [
    " eval('(1 and 2) or (3 and 4)')"
   ]
  },
  {
   "cell_type": "markdown",
   "metadata": {},
   "source": [
    "설명 : 1검사 후 2를 검사하고 or이 나왔으므로 (3 and 4)는 검사안함"
   ]
  },
  {
   "cell_type": "code",
   "execution_count": 148,
   "metadata": {
    "collapsed": false
   },
   "outputs": [
    {
     "data": {
      "text/plain": [
       "1"
      ]
     },
     "execution_count": 148,
     "metadata": {},
     "output_type": "execute_result"
    }
   ],
   "source": [
    "eval('1 or 2 and 3 or 4')"
   ]
  },
  {
   "cell_type": "markdown",
   "metadata": {},
   "source": [
    "설명 : 1이 나오고 or이 나왔으므로 이후로 검사안함"
   ]
  },
  {
   "cell_type": "code",
   "execution_count": 134,
   "metadata": {
    "collapsed": false
   },
   "outputs": [
    {
     "data": {
      "text/plain": [
       "3"
      ]
     },
     "execution_count": 134,
     "metadata": {},
     "output_type": "execute_result"
    }
   ],
   "source": [
    "eval('(1 or 2) and (3 or 4)')"
   ]
  },
  {
   "cell_type": "markdown",
   "metadata": {},
   "source": [
    "설명 : (1 or 2) = 1 , (3 or 4) = 3, 1 and 3이므로 3을 출력"
   ]
  },
  {
   "cell_type": "markdown",
   "metadata": {},
   "source": [
    "###문제② 키보드로 정수값을 입력 받고 그 값이 양수인지 음수인지를 비트 연산자를 이용하여 판단하는 프로그램을 작성하시오.\n",
    " \n",
    "####▶[참고] 가장 왼쪽에 있는 비트가 0이면 양수이며, 1이면 음수이다.\n",
    "####▶[참고] 수업보충자료 (https://github.com/bluebibi/python-e-learning/blob/master/supplement.ipynb) 를 참고하시오."
   ]
  },
  {
   "cell_type": "code",
   "execution_count": 198,
   "metadata": {
    "collapsed": false
   },
   "outputs": [
    {
     "name": "stdout",
     "output_type": "stream",
     "text": [
      "Input Integer : -4141\n",
      "음수입니다.\n"
     ]
    }
   ],
   "source": [
    "import math\n",
    "num = input(\"Input Integer : \")\n",
    "n = 4 * 8\n",
    "mask = 1 << n\n",
    "bit_num = num & mask\n",
    "if bit_num == mask:\n",
    "    print '음수입니다.'\n",
    "elif num == 0:\n",
    "    print '0입니다.'\n",
    "else:\n",
    "    print '양수입니다.'"
   ]
  },
  {
   "cell_type": "markdown",
   "metadata": {},
   "source": [
    "###문제③ 경로에 해당하는 문자열 1개를 입력 받아 그 안에 디렉토리 경로명과 파일명을 분리하여 리스트로 반환하는 함수 div_path(s)를 작성하시오.\n",
    "▶ 인자로 전달하는 문자열은 경로만 들어간다고 가정한다.\n",
    "\n",
    "▶ 각 디렉토리와 파일을 구분하는 문자는 '/'로 가정한다.\n",
    "\n",
    "▶ 반환하는 리스트의 첫번째 원소는 디렉토리이고 두번째 원소는 파일명이다.\n",
    "\n",
    "▶ 다음과 같은 실행 및 출력 결과가 도출되어야 한다.\n",
    "\n",
    "▷ div_path('/usr/local/bin/python')\n",
    "\n",
    "▷ ['/usr/local/bin', 'python']\n",
    "\n",
    "▷ div_path('/home/chulsoo/test.txt')\n",
    "\n",
    "▷ ['/home/chulsoo', 'test.txt']\n",
    "\n",
    "▶ [참고] 리스트(l) 내에 새로운 정수값 (예를 들어 10)을 넣는 방법은 l.append(10) 이다."
   ]
  },
  {
   "cell_type": "code",
   "execution_count": 205,
   "metadata": {
    "collapsed": false
   },
   "outputs": [
    {
     "name": "stdout",
     "output_type": "stream",
     "text": [
      "input path : http://localhost:8888/notebooks/Assignment2.ipynb#Assignment2\n"
     ]
    },
    {
     "data": {
      "text/plain": [
       "['http://localhost:8888/notebooks', 'Assignment2.ipynb#Assignment2']"
      ]
     },
     "execution_count": 205,
     "metadata": {},
     "output_type": "execute_result"
    }
   ],
   "source": [
    "s = raw_input('input path : ')\n",
    "\n",
    "def div_path(s):\n",
    "    l = []\n",
    "    std = s.rfind('/')\n",
    "    l.append(s[:std])\n",
    "    l.append(s[std+1:])\n",
    "    return l\n",
    "div_path(s)"
   ]
  },
  {
   "cell_type": "markdown",
   "metadata": {},
   "source": [
    "###문제④  두 개의 리스트를 인자로 받아서 그 두 개의 리스트에 대한 '합집합'을 반환하는 함수 list_union(lista, listb)를 작성하시오.\n",
    " \n",
    "▶인자로 전달하는 리스트 2 개에는 정수값만 들어간다고 가정하자.\n",
    "\n",
    "▶함수 내에서 새로운 리스트를 만들어 그 리스트 내에 인자로 받은 두 리스트의 모든 원소를 넣어 반환한다.\n",
    "\n",
    "▶반환하는 리스트에는 절대로 중복된 원소가 들어 있으면 안된다 (집합의 조건).\n",
    "\n",
    "▶반환하는 리스트는 정렬이 되어 있어야 한다.\n",
    "\n",
    "▶다음과 같은 실행 및 출력 결과가 도출되어야 한다.\n",
    "\n",
    " ▷ list_union([1, 2, 3], [1, 2, 4])\n",
    " \n",
    "        ◇  [1, 2, 3, 4]\n",
    "        \n",
    " ▷ list_union([-10, -5, 0, -1], [100, 9, 0, 9])\n",
    " \n",
    "        ◇  [-10, -5, -1, 0, 9, 100]\n",
    "        \n",
    "▷ list_union([0, 1, 2], [0, 1, 2])\n",
    "\n",
    "        ◇  [0, 1, 2]\n",
    "        \n",
    "▶[참고] 리스트(l) 내에 새로운 정수값 (예를 들어 10)을 넣는 방법은 l.append(10) 이다.\n",
    "\n",
    "▶[참고] 임의의 정수값 (x)이 리스트 (l) 내에 존재하는지 판단하는 방법은 x in l 이다.\n",
    "\n",
    " "
   ]
  },
  {
   "cell_type": "code",
   "execution_count": 103,
   "metadata": {
    "collapsed": false
   },
   "outputs": [
    {
     "name": "stdout",
     "output_type": "stream",
     "text": [
      "[-10, -5, -1, 0, 9, 100]\n"
     ]
    },
    {
     "data": {
      "text/plain": [
       "[-10, -5, -1, 0, 9, 100]"
      ]
     },
     "execution_count": 103,
     "metadata": {},
     "output_type": "execute_result"
    }
   ],
   "source": [
    "def list_union(lista, listb):\n",
    "    l = []\n",
    "    for i in range(0, len(lista)):\n",
    "        l.append(lista[i])\n",
    "    for j in range(0, len(listb)):\n",
    "        l.append(listb[j])\n",
    "    l = list(set(l))\n",
    "    l.sort()\n",
    "    print l\n",
    "    return l\n",
    "list_union([-10, -5, 0, -1], [100, 9, 0, 9])"
   ]
  },
  {
   "cell_type": "markdown",
   "metadata": {},
   "source": [
    "###문제⑤  프토젝트 오일러 4\n",
    "\n",
    "###앞에서부터 읽을 때나 뒤에서부터 읽을 때나 모양이 같은 수를 대칭수(palindrome)라고 부릅니다.\n",
    "\n",
    "###두 자리 수를 곱해 만들 수 있는 대칭수 중 가장 큰 수는 9009 (= 91 × 99) 입니다.\n",
    "\n",
    "###세 자리 수를 곱해 만들 수 있는 가장 큰 대칭수는 얼마입니까?"
   ]
  },
  {
   "cell_type": "code",
   "execution_count": 31,
   "metadata": {
    "collapsed": false
   },
   "outputs": [
    {
     "name": "stdout",
     "output_type": "stream",
     "text": [
      "906609\n"
     ]
    }
   ],
   "source": [
    "i = 999\n",
    "j = 999\n",
    "max = 0\n",
    "result = 0\n",
    "while i > 500:\n",
    "    j = 999\n",
    "    while j > 500:\n",
    "        result = i*j\n",
    "        result_s = str(result)\n",
    "        if((result_s[0] is result_s[-1]) and (result_s[1] is result_s[-2])):\n",
    "            if((len(result_s)is 6) and (int(result_s) > max) and result_s[2] is result_s[-3]):\n",
    "                max = int(result_s)\n",
    "                j = j - 1\n",
    "            else:\n",
    "                j = j - 1\n",
    "        else:\n",
    "            j = j - 1\n",
    "    i = i - 1\n",
    "\n",
    "\n",
    "print max            "
   ]
  },
  {
   "cell_type": "markdown",
   "metadata": {},
   "source": [
    "설명 : 세 자리 수를 곱해 만들 수 있는 가장 큰 대칭수는 최소 6자리 이상이므로 곱하는 수는 500이하는 고려하지 않았습니다."
   ]
  },
  {
   "cell_type": "markdown",
   "metadata": {},
   "source": [
    "###문제⑥  프토젝트 오일러 5\n",
    "\n",
    "###1 ~ 10 사이의 어떤 수로도 나누어 떨어지는 가장 작은 수는 2520입니다.\n",
    "###그러면 1 ~ 20 사이의 어떤 수로도 나누어 떨어지는 가장 작은 수는 얼마입니까?"
   ]
  },
  {
   "cell_type": "code",
   "execution_count": 32,
   "metadata": {
    "collapsed": false
   },
   "outputs": [
    {
     "name": "stdout",
     "output_type": "stream",
     "text": [
      "232792560\n"
     ]
    }
   ],
   "source": [
    "num = 2520\n",
    "correctNum = 0\n",
    "while True:\n",
    "    if((num % 1 is 0) and (num % 2 is 0) and (num % 3 is 0) and (num % 4 is 0) and (num % 5 is 0) and (num % 6 is 0) and (num % 7 is 0) and (num % 8 is 0) and (num % 9 is 0) and (num % 10 is 0)\n",
    "      and (num % 11 is 0) and (num % 12 is 0) and (num % 13 is 0) and (num % 14 is 0) and (num % 15 is 0) and (num % 16 is 0) and (num % 17 is 0) and (num % 18 is 0) and (num % 19 is 0) and (num % 20 is 0)):\n",
    "        correctNum = num\n",
    "        break\n",
    "    else:\n",
    "        num = num + 1\n",
    "print correctNum"
   ]
  },
  {
   "cell_type": "markdown",
   "metadata": {},
   "source": [
    "###문제⑦  프토젝트 오일러 6\n",
    "###1부터 10까지 자연수를 각각 제곱해 더하면 다음과 같습니다 (제곱의 합).\n",
    "\n",
    "###1^2 + 2^2 + ... + 10^2 = 385\n",
    "###1부터 10을 먼저 더한 다음에 그 결과를 제곱하면 다음과 같습니다 (합의 제곱).\n",
    "\n",
    "###(1 + 2 + ... + 10)2 = 552 = 3025\n",
    "###따라서 1부터 10까지 자연수에 대해 \"합의 제곱\"과 \"제곱의 합\" 의 차이는 3025 - 385 = 2640 이 됩니다.\n",
    "\n",
    "###그러면 1부터 100까지 자연수에 대해 \"합의 제곱\"과 \"제곱의 합\"의 차이는 얼마입니까?"
   ]
  },
  {
   "cell_type": "code",
   "execution_count": 33,
   "metadata": {
    "collapsed": false
   },
   "outputs": [
    {
     "name": "stdout",
     "output_type": "stream",
     "text": [
      "25164150\n"
     ]
    }
   ],
   "source": [
    "n=100\n",
    "pre_squre = (n * (n + 1) * (2 * n + 1)) / 6\n",
    "pre_plus = ((n * (n + 1)) / 2 )\n",
    "squre = pow(pre_plus, 2)\n",
    "print squre - pre_squre"
   ]
  },
  {
   "cell_type": "markdown",
   "metadata": {},
   "source": [
    "###[Incremental Project] 웹 URL로 지정된 웹페이지를 문자열로 가져와 \n",
    "###1) 모든 HTML 태그를 제외한 순수 텍스트 문자열만을 걸러내고, \n",
    "###2) 그 순수 텍스트 문자열 안에 존재하는 단어가 총 몇개인지 출력하는 프로그램을 작성하시오. \n",
    " \n",
    "▶ HTML 태그는 다음 조건을 가지는 것이다.\n",
    "\n",
    "▷ < 로 시작하여 >로 끝난다.\n",
    "\n",
    "▷ 예를 들어, 아래와 같은 HTML 내용 내에 한 줄이 있다고 가정하자.\n",
    "\n",
    "<label for=\"keep_signed\">로그인 유지</label>\n",
    "\n",
    "▷ 위 소스에서 HTML 태그를 제외한 순수 텍스트 문자열은 아래와 같다.\n",
    "\n",
    "로그인 유지\n",
    "\n",
    "▷ 한편, 아래와 같은 HTML 한 줄이 있다고 가정하자.\n",
    "\n",
    "<link rel=\"stylesheet\" href=\"/common/css/xe.min.css?20150910092654\" />\n",
    "\n",
    "▷ 위 소스는 HTML 태그로만 구성된 것이며 걸러낼 수 있는 순수 텍스 문자열은 존재하지 않는다.\n",
    " \n",
    "▶ 단어를 나누는 기준은 오로지 공백문자 (whitespace)이다.\n",
    "\n",
    "▷ 즉, 위 순수 텍스트 문자열인 \"로그인 유지\"에서 분리한 단어는 \"로그인\"과 \"유지\"이다.\n",
    "\n",
    "▶ 다음은 URL로 지정된 웹페이지를 특정 문자열로 가져오는 코드이다.\n",
    "\n",
    "▷ 즉, 숙제 코드는 아래 링크를 참조 해야한다.\n",
    " \n",
    "http://nbviewer.ipython.org/github/bluebibi/python-e-learning/blob/master/assignment-2.ipynb"
   ]
  },
  {
   "cell_type": "code",
   "execution_count": 315,
   "metadata": {
    "collapsed": false
   },
   "outputs": [
    {
     "name": "stdout",
     "output_type": "stream",
     "text": [
      "1 : 한톡\n",
      "2 : &rsaquo;\n",
      "3 : 날씨\n",
      "4 : 오늘의식단\n",
      "5 : 주변음식점\n",
      "6 : 다산열람실\n",
      "7 : 버스\n",
      "8 : 콜밴\n",
      "9 : 학사일정\n",
      "10 : 동아리\n",
      "11 : 강의평가\n",
      "12 : 10/08(목)\n",
      "13 : 식단표\n",
      "14 : 아침\n",
      "15 : 점심\n",
      "16 : 저녁\n",
      "17 : 정식\n",
      "18 : 일품식\n",
      "19 : 전골\n",
      "20 : /\n",
      "21 : 뚝배기\n",
      "22 : 한식\n",
      "23 : 능수관\n",
      "24 : 정식\n",
      "25 : 일품식\n",
      "26 : 전골\n",
      "27 : /\n",
      "28 : 뚝배기\n",
      "29 : 한식\n",
      "30 : 능수관\n",
      "31 : 정식\n",
      "32 : 일품식\n",
      "33 : 전골\n",
      "34 : /\n",
      "35 : 뚝배기\n",
      "36 : 한식\n",
      "37 : 능수관\n",
      "38 : &times;\n",
      "39 : 사진\n",
      "40 : 사진\n",
      "41 : 업로드\n",
      "42 : 등록된\n",
      "43 : 식단\n",
      "44 : 사진이\n",
      "45 : 없습니다.\n",
      "46 : 사진을\n",
      "47 : 등록해주세요.\n",
      "48 : 회원가입\n",
      "49 : 로그인\n",
      "50 : 언어\n",
      "51 : (Language)\n",
      "52 : &copy;\n",
      "53 : hantalk\n",
      "54 : $(document).ready(function(){\n",
      "55 : });\n",
      "56 : var\n",
      "57 : _page\n",
      "58 : =\n",
      "59 : 2;\n",
      "60 : var\n",
      "61 : _s_idx\n",
      "62 : =\n",
      "63 : 0;\n",
      "64 : getDining();\n",
      "65 : (function(i,s,o,g,r,a,m){i['GoogleAnalyticsObject']=r;i[r]=i[r]||function(){\n",
      "66 : (i[r].q=i[r].q||[]).push(arguments)},i[r].l=1*new\n",
      "67 : Date();a=s.createElement(o),\n",
      "68 : m=s.getElementsByTagName(o)[0];a.async=1;a.src=g;m.parentNode.insertBefore(a,m)\n",
      "69 : })(window,document,'script','//www.google-analytics.com/analytics.js','ga');\n",
      "70 : ga('create',\n",
      "71 : 'UA-48829340-1',\n",
      "72 : 'hantalk.kr');\n",
      "73 : ga('send',\n",
      "74 : 'pageview');\n",
      "Total Count : 74\n"
     ]
    }
   ],
   "source": [
    "#-*- coding: utf-8 -*\n",
    "import urllib2\n",
    "\n",
    "source = urllib2.urlopen(\"http://hantalk.kr/dining\").read()\n",
    "\n",
    "word_list = []\n",
    "drop = True\n",
    "temp = \"\"\n",
    "for ch in source:\n",
    "    if ch == '<':\n",
    "        drop = True\n",
    "        temp = temp.strip()\n",
    "        if len(temp) > 0:\n",
    "            word_temp = temp.split()\n",
    "            if len(word_temp) > 0:\n",
    "                for last in word_temp:\n",
    "                    word_list.append(last)\n",
    "        temp = \"\"\n",
    "    \n",
    "    if ch == '>':\n",
    "        drop = False\n",
    "        continue\n",
    "    \n",
    "    if drop is False:\n",
    "        temp += ch\n",
    "\n",
    "cnt = 0\n",
    "for word in word_list:\n",
    "    print str(cnt + 1) + \" : \" + word\n",
    "    cnt += 1\n",
    "\n",
    "print \"Total Count : \" + str(cnt)\n",
    "#print source # 추후 숙제 답안 제출 때엔 왼쪽 라인은 주석처리할 것"
   ]
  }
 ],
 "metadata": {
  "kernelspec": {
   "display_name": "Python 2",
   "language": "python",
   "name": "python2"
  },
  "language_info": {
   "codemirror_mode": {
    "name": "ipython",
    "version": 2
   },
   "file_extension": ".py",
   "mimetype": "text/x-python",
   "name": "python",
   "nbconvert_exporter": "python",
   "pygments_lexer": "ipython2",
   "version": "2.7.9"
  }
 },
 "nbformat": 4,
 "nbformat_minor": 0
}
