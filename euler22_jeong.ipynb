{
 "cells": [
  {
   "cell_type": "code",
   "execution_count": 59,
   "metadata": {
    "collapsed": false
   },
   "outputs": [
    {
     "name": "stdout",
     "output_type": "stream",
     "text": [
      "871198282\n"
     ]
    }
   ],
   "source": [
    "f = open(\"names.txt\",'r')\n",
    "s = f.read().split(\",\")\n",
    "f.close()\n",
    "\n",
    "word_sum = 0\n",
    "total = 0\n",
    "li = []\n",
    "seq = 1\n",
    "\n",
    "for i in s:\n",
    "    li.append(i[1:-1])\n",
    "\n",
    "li.sort()\n",
    "for word in li:\n",
    "    for k in range(0,len(word)):\n",
    "        word_sum += (ord(word[k])-ord('A')+1)\n",
    "    total += (word_sum * seq)\n",
    "    word_sum = 0\n",
    "    seq = seq + 1\n",
    "   \n",
    "print total\n",
    "\n"
   ]
  },
  {
   "cell_type": "code",
   "execution_count": null,
   "metadata": {
    "collapsed": true
   },
   "outputs": [],
   "source": []
  },
  {
   "cell_type": "code",
   "execution_count": null,
   "metadata": {
    "collapsed": true
   },
   "outputs": [],
   "source": []
  }
 ],
 "metadata": {
  "kernelspec": {
   "display_name": "Python 2",
   "language": "python",
   "name": "python2"
  },
  "language_info": {
   "codemirror_mode": {
    "name": "ipython",
    "version": 2
   },
   "file_extension": ".py",
   "mimetype": "text/x-python",
   "name": "python",
   "nbconvert_exporter": "python",
   "pygments_lexer": "ipython2",
   "version": "2.7.10"
  }
 },
 "nbformat": 4,
 "nbformat_minor": 0
}
